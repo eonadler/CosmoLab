{
 "cells": [
  {
   "cell_type": "markdown",
   "metadata": {},
   "source": [
    "Note: I haven't really cleaned up the code yet. As you can see at the end of the notebook, the plot sits a bit high, so I assume there is an issue in the code somewhere -- possibly in the constant values."
   ]
  },
  {
   "cell_type": "code",
   "execution_count": 10,
   "metadata": {},
   "outputs": [],
   "source": [
    "import numpy as np\n",
    "import math\n",
    "import matplotlib.pyplot as plt\n",
    "from scipy.optimize import fsolve"
   ]
  },
  {
   "cell_type": "markdown",
   "metadata": {},
   "source": [
    "### Various constants"
   ]
  },
  {
   "cell_type": "code",
   "execution_count": 11,
   "metadata": {},
   "outputs": [],
   "source": [
    "# http://pdg.lbl.gov/2014/reviews/rpp2014-rev-astrophysical-constants.pdf\n",
    "p_crit=4.755e-6\n",
    "h = 0.6727\n",
    "T_0 = 2.7255\n",
    "kb = 8.617333262145e-5\n",
    "\n",
    "# https://arxiv.org/pdf/1904.10000\n",
    "N_0 = (2**(7/2))/(3*math.sqrt(math.pi))\n",
    "Omega_m = (0.1199)/(h**2)\n",
    "Omega_b = 0.05\n",
    "p_b = Omega_b*p_crit\n",
    "Omega_rad=10e-5\n",
    "upperk = 30\n",
    "\n",
    "# https://arxiv.org/pdf/1502.01589.pdf\n",
    "m_p=0.93827231\n",
    "Y_p=0.75\n",
    "H0=67.3\n",
    "\n",
    "# Factors to satisfy units\n",
    "k_crit_conversionFactor=3.33333333e-6\n",
    "R_x_conversionFactor=9.258e29\n",
    "\n",
    "npows = [0]\n",
    "masses_test = np.array([1e-5,1e-4,1e-3,1e-2,1e-1,1.,10.,100.])\n",
    "sigmas_test = np.logspace(-26,-30,20)"
   ]
  },
  {
   "cell_type": "markdown",
   "metadata": {},
   "source": [
    "### Critical mass"
   ]
  },
  {
   "cell_type": "code",
   "execution_count": 12,
   "metadata": {},
   "outputs": [],
   "source": [
    "def M_crit(k_crit):\n",
    "    return (4*math.pi/3)*Omega_m*p_crit*((math.pi/k_crit)**3)"
   ]
  },
  {
   "cell_type": "markdown",
   "metadata": {},
   "source": [
    "### Rate of momentum transfer prefactors"
   ]
  },
  {
   "cell_type": "code",
   "execution_count": 13,
   "metadata": {},
   "outputs": [],
   "source": [
    "# As per Equation 2\n",
    "def R_x(sigma_0, m_x):\n",
    "    return N_0*Y_p*p_b*(sigma_0/(m_x+m_p))*((kb*T_0*1e-9)**0.5)*(((1/m_x)+(1/m_p))**0.5)*R_x_conversionFactor"
   ]
  },
  {
   "cell_type": "code",
   "execution_count": 14,
   "metadata": {},
   "outputs": [],
   "source": [
    "def R_x_prime(sigma_0, m_x):\n",
    "    return (m_x/(m_p+m_x))*R_x(sigma_0,m_x)"
   ]
  },
  {
   "cell_type": "markdown",
   "metadata": {},
   "source": [
    "### Zth"
   ]
  },
  {
   "cell_type": "code",
   "execution_count": 15,
   "metadata": {},
   "outputs": [],
   "source": [
    "# As per Equation 2 + relations in following paragraph + time evolution of scale factor\n",
    "def z_th(sigma_0,m_x):\n",
    "    return (H0*np.sqrt(Omega_rad)/R_x_prime(sigma_0, m_x))**(0.6666)"
   ]
  },
  {
   "cell_type": "markdown",
   "metadata": {},
   "source": [
    "### Zcrit"
   ]
  },
  {
   "cell_type": "code",
   "execution_count": 16,
   "metadata": {},
   "outputs": [],
   "source": [
    "# As per Equation 1 + relations after Eq. 3\n",
    "def z_crit(sigma_0,m_x):\n",
    "    return fsolve(lambda z:((z**4*m_p+((z**3*m_x)*(1+z_th(sigma_0,m_x))))/(1+z_th(sigma_0,m_x)))-\\\n",
    "        (H0*np.sqrt(Omega_rad))/((R_x(sigma_0,m_x))**2),z_th(sigma_0,m_x)/2)"
   ]
  },
  {
   "cell_type": "markdown",
   "metadata": {},
   "source": [
    "### Kcrit"
   ]
  },
  {
   "cell_type": "code",
   "execution_count": 17,
   "metadata": {},
   "outputs": [],
   "source": [
    "# As per Equation 4 with appropriate unit conversions\n",
    "def k_crit(sigma_0,m_x):\n",
    "    return (2*H0*np.sqrt(Omega_rad)*z_crit(sigma_0,m_x))*(k_crit_conversionFactor)"
   ]
  },
  {
   "cell_type": "markdown",
   "metadata": {},
   "source": [
    "### Plotting of cross section vs dark matter mass"
   ]
  },
  {
   "cell_type": "code",
   "execution_count": 18,
   "metadata": {},
   "outputs": [
    {
     "data": {
      "text/plain": [
       "[<matplotlib.lines.Line2D at 0x7fe35092edd0>]"
      ]
     },
     "execution_count": 18,
     "metadata": {},
     "output_type": "execute_result"
    },
    {
     "data": {
      "image/png": "[encoded data removed]",
      "text/plain": [
       "<Figure size 576x432 with 1 Axes>"
      ]
     },
     "metadata": {
      "needs_background": "light"
     },
     "output_type": "display_data"
    }
   ],
   "source": [
    "plt.subplots(figsize=(8,6))\n",
    "sigma = np.zeros(len(masses_test))\n",
    "sigma_array = np.logspace(-23,-32,200)\n",
    "for i in range(len(masses_test)):\n",
    "    sigma[i] = sigma_array[np.argmin(np.abs(k_crit(sigma_array,masses_test[i])-h*upperk))]\n",
    "    \n",
    "plt.xlim(masses_test.min(),masses_test.max())\n",
    "plt.ylim(1e-34,1e-24)\n",
    "plt.loglog(masses_test,sigma)"
   ]
  },
  {
   "cell_type": "code",
   "execution_count": null,
   "metadata": {},
   "outputs": [],
   "source": []
  },
  {
   "cell_type": "code",
   "execution_count": null,
   "metadata": {},
   "outputs": [],
   "source": []
  },
  {
   "cell_type": "code",
   "execution_count": null,
   "metadata": {},
   "outputs": [],
   "source": []
  }
 ],
 "metadata": {
  "anaconda-cloud": {},
  "kernelspec": {
   "display_name": "Python 2",
   "language": "python",
   "name": "python2"
  },
  "language_info": {
   "codemirror_mode": {
    "name": "ipython",
    "version": 2
   },
   "file_extension": ".py",
   "mimetype": "text/x-python",
   "name": "python",
   "nbconvert_exporter": "python",
   "pygments_lexer": "ipython2",
   "version": "2.7.15+"
  }
 },
 "nbformat": 4,
 "nbformat_minor": 1
}
