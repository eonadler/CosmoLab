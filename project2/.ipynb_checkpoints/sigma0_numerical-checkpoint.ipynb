{
 "cells": [
  {
   "cell_type": "markdown",
   "metadata": {},
   "source": "# Numerical determination of $\\sigma_0$"
  },
  {
   "cell_type": "code",
   "execution_count": 1,
   "metadata": {},
   "outputs": [],
   "source": "%matplotlib inline\n%config InlineBackend.figure_format = 'retina'\n\nimport numpy as np\nimport matplotlib.pyplot as plt\nimport sys\nimport os,glob\nimport yaml\nfrom chainconsumer import ChainConsumer\nfrom scipy.special import gamma\nfrom scipy.optimize import fsolve\nfrom scipy.interpolate import interp1d  \n\n%load_ext autoreload\n%autoreload 2\n%config InlineBackend.figure_format = 'retina'\nplt.rcParams['font.size']=13\nplt.rcParams['font.family']='stix'\nplt.rcParams['text.usetex']=True\nplt.rcParams['figure.figsize']= (6.5,4)\nplt.rcParams['figure.dpi']=150"
  },
  {
   "cell_type": "code",
   "execution_count": 2,
   "metadata": {},
   "outputs": [],
   "source": "masses_test = [1e-4,1e-3,1e-2,1e-1,1.,10.]\nsmallSigs = np.logspace(-20,-30,100)\nlargeSigs = np.logspace(-10,-30,30)"
  },
  {
   "cell_type": "markdown",
   "metadata": {},
   "source": "## IC generation"
  },
  {
   "cell_type": "code",
   "execution_count": 3,
   "metadata": {},
   "outputs": [],
   "source": "def make_inis(ini_base_file='class/inis/dmeff_base.ini',\n              base_inis_path='class/inis/',\n              class_runner_path = 'class/',\n              npow=0,\n              masses=masses_test,\n              sigmas=smallSigs,\n              output_path='pk_output',\n              sh_file='class/run_classes.sh'):\n    \n    sh_file = class_runner_path+'run_classes.sh'\n\n    fin =  open(ini_base_file, 'r')\n    base_content = fin.read()\n    fin.close()\n    \n    fout_sh = open(sh_file, 'w')\n\n    for m in masses:\n        if m<1:\n            sigmas = smallSigs\n        else:\n            sigmas = largeSigs\n            \n        for sigma in smallSigs:\n            filename = 'n{}_m{}_s{}.ini'.format(npow,m,sigma)\n            #print('{}'.format(filename))\n            fout_sh.write('./class ' + 'inis/{}\\n'.format(filename))\n\n            fout = open(base_inis_path + filename, 'w')\n            fout.write(base_content)\n            fout.write('\\n')\n\n            npow_line = 'npow_dmeff = {}\\n'.format(npow)\n            fout.write(npow_line)\n            m_line = 'm_dmeff = {}\\n'.format(m)\n            fout.write(m_line)\n            sigma_line = 'sigma_dmeff = {}\\n'.format(sigma)\n            fout.write(sigma_line)\n            if npow<0:\n                vel_line = 'Vrel_dmeff_rate = 30\\n' #sets to DBK case.\n                fout.write(vel_line)\n            root_line = 'root = {}/n{}_m{}_s{}_\\n'.format(output_path,npow,m,sigma)\n            fout.write(root_line)\n            \n    fout_sh.close()"
  },
  {
   "cell_type": "code",
   "execution_count": 4,
   "metadata": {},
   "outputs": [],
   "source": "make_inis(npow=4)"
  },
  {
   "cell_type": "markdown",
   "metadata": {},
   "source": "## Relevant functions"
  },
  {
   "cell_type": "code",
   "execution_count": 5,
   "metadata": {},
   "outputs": [],
   "source": "def calculate_kcuts(npow=0, m=1e-3, z='z1',sigmas=smallSigs,\n           pk_root='class/pk_output/', upper_cut=66, lower_cut=1, reduction_factor=0.75):\n    \n    data0 = np.loadtxt(pk_root + 'lcdm_{}_pk.dat'.format(z))\n    ks = data0[:,0]\n    pk0 = data0[:,1]\n    khms = []\n    ss = []\n    \n    if m<1:\n        sigmas = smallSigs\n    else:\n        sigmas = largeSigs\n        \n    for i,sigma in enumerate(sigmas):\n        filename = pk_root + 'n{}_m{}_s{}_{}_pk.dat'.format(npow,m,sigma,z)\n        try:\n            data = np.loadtxt(filename)\n        except:\n            continue\n        pk = data[:,1]\n   \n        ind = (np.abs(np.abs((pk0-pk)/pk0) - reduction_factor)).argmin()\n        if ks[ind]>upper_cut or ks[ind]<lower_cut:\n            continue\n#         print(ks[ind])\n        khms.append(ks[ind])\n        ss.append(sigmas[i])\n    \n    try:\n        p = np.polyfit(np.log10(ss), np.log10(khms), 1)\n    except:\n        return -1\n    \n    return np.array(ss),np.array(khms),p"
  },
  {
   "cell_type": "code",
   "execution_count": 6,
   "metadata": {},
   "outputs": [],
   "source": "def fit_fun(x,p):\n    pp = p[0]*np.log10(x) + p[1]\n    return np.power(10,pp)"
  },
  {
   "cell_type": "code",
   "execution_count": 7,
   "metadata": {},
   "outputs": [],
   "source": "def sigma0_limit(kcut, masses=masses_test,\n                npow=0, z=0,reduction_factor=0.25,\n                ymax=1e-26,ymin=1e-31,plot_ks=True):\n    \n    masses = np.array(masses)\n    sigmas = np.zeros(len(masses))\n\n    for i,m in enumerate(masses):\n        ks_filename = 'data/ks_{}_z{}_n{}_m{}.txt'.format(reduction_factor,z,npow,m)\n#         try: \n        np.loadtxt(ks_filename)\n#         except:\n#             continue\n        data = np.loadtxt(ks_filename)\n        ss = data[:,0]\n        ks = data[:,1]\n        p = np.polyfit(np.log10(ks), np.log10(ss), 1)\n        sigmas[i] = fit_fun(kcut,p)\n                  \n    return masses,sigmas"
  },
  {
   "cell_type": "code",
   "execution_count": 8,
   "metadata": {},
   "outputs": [],
   "source": "def show_pk(npow=0,m=0.01,sigmas=smallSigs,z='z1',\n           pk_root='class/pk_output/',\n            filename=None,lcdm_filename='lcdm_z1_pk.dat',label='',\n           f=None,ax=None,xmin=0,xmax=20,ymin=-1.0,ymax=1e3,\n           show_kcut=True,pfit=None, relative=True,boost_factor=1.):\n        \n    data0 = np.loadtxt(pk_root + lcdm_filename)\n    ks = data0[:,0]\n    pk0 = data0[:,1]\n    \n    if m<1:\n        sigmas = smallSigs\n    else:\n        sigmas = largeSigs\n            \n    if filename is None:\n        for i,sigma in enumerate(sigmas):\n            filename = pk_root + 'n{}_m{}_s{}_{}_pk.dat'.format(npow,m,sigma,z)\n#             try: \n            np.loadtxt(filename)\n#             except:\n#                 continue\n            data = np.loadtxt(filename)\n            pk = data[:,1]\n            plt.semilogx(ks,(pk)/pk0,label=r'{}cm$^2$'.format(sigma))\n#             plt.axvline(x=36,color='k')\n            break\n            \n    plt.xlabel('k [1/Mpc]')\n    plt.ylabel('P(k) residual')\n    plt.xlim(1e-5,1e5)\n#     plt.ylim(-1,)\n    plt.show()"
  },
  {
   "cell_type": "markdown",
   "metadata": {},
   "source": "---"
  },
  {
   "cell_type": "code",
   "execution_count": 9,
   "metadata": {},
   "outputs": [],
   "source": "npow_=4"
  },
  {
   "cell_type": "code",
   "execution_count": 10,
   "metadata": {},
   "outputs": [
    {
     "ename": "ValueError",
     "evalue": "operands could not be broadcast together with shapes (246,) (130,) ",
     "output_type": "error",
     "traceback": [
      "\u001b[0;31m---------------------------------------------------------------------\u001b[0m",
      "\u001b[0;31mValueError\u001b[0m                          Traceback (most recent call last)",
      "\u001b[0;32m<ipython-input-10-70b7b7b7213b>\u001b[0m in \u001b[0;36m<module>\u001b[0;34m()\u001b[0m\n\u001b[1;32m      1\u001b[0m \u001b[0;32mfor\u001b[0m \u001b[0mm\u001b[0m \u001b[0;32min\u001b[0m \u001b[0mmasses_test\u001b[0m\u001b[0;34m:\u001b[0m\u001b[0;34m\u001b[0m\u001b[0;34m\u001b[0m\u001b[0m\n\u001b[0;32m----> 2\u001b[0;31m     \u001b[0;32mif\u001b[0m \u001b[0mcalculate_kcuts\u001b[0m\u001b[0;34m(\u001b[0m\u001b[0mnpow\u001b[0m\u001b[0;34m=\u001b[0m\u001b[0mnpow_\u001b[0m\u001b[0;34m,\u001b[0m \u001b[0mm\u001b[0m\u001b[0;34m=\u001b[0m\u001b[0mm\u001b[0m\u001b[0;34m,\u001b[0m \u001b[0mz\u001b[0m\u001b[0;34m=\u001b[0m\u001b[0;34m'z1'\u001b[0m\u001b[0;34m)\u001b[0m \u001b[0;34m==\u001b[0m \u001b[0;34m-\u001b[0m\u001b[0;36m1\u001b[0m\u001b[0;34m:\u001b[0m\u001b[0;34m\u001b[0m\u001b[0;34m\u001b[0m\u001b[0m\n\u001b[0m\u001b[1;32m      3\u001b[0m         \u001b[0;32mcontinue\u001b[0m\u001b[0;34m\u001b[0m\u001b[0;34m\u001b[0m\u001b[0m\n\u001b[1;32m      4\u001b[0m     \u001b[0msigmas\u001b[0m\u001b[0;34m,\u001b[0m \u001b[0mkcuts\u001b[0m\u001b[0;34m,\u001b[0m \u001b[0mp\u001b[0m \u001b[0;34m=\u001b[0m \u001b[0mcalculate_kcuts\u001b[0m\u001b[0;34m(\u001b[0m\u001b[0mnpow\u001b[0m\u001b[0;34m=\u001b[0m\u001b[0mnpow_\u001b[0m\u001b[0;34m,\u001b[0m \u001b[0mm\u001b[0m\u001b[0;34m=\u001b[0m\u001b[0mm\u001b[0m\u001b[0;34m,\u001b[0m \u001b[0mz\u001b[0m\u001b[0;34m=\u001b[0m\u001b[0;34m'z1'\u001b[0m\u001b[0;34m)\u001b[0m\u001b[0;34m\u001b[0m\u001b[0;34m\u001b[0m\u001b[0m\n",
      "\u001b[0;32m<ipython-input-5-287385751571>\u001b[0m in \u001b[0;36mcalculate_kcuts\u001b[0;34m(npow, m, z, sigmas, pk_root, upper_cut, lower_cut, reduction_factor)\u001b[0m\n\u001b[1;32m     21\u001b[0m         \u001b[0mpk\u001b[0m \u001b[0;34m=\u001b[0m \u001b[0mdata\u001b[0m\u001b[0;34m[\u001b[0m\u001b[0;34m:\u001b[0m\u001b[0;34m,\u001b[0m\u001b[0;36m1\u001b[0m\u001b[0;34m]\u001b[0m\u001b[0;34m\u001b[0m\u001b[0;34m\u001b[0m\u001b[0m\n\u001b[1;32m     22\u001b[0m \u001b[0;34m\u001b[0m\u001b[0m\n\u001b[0;32m---> 23\u001b[0;31m         \u001b[0mind\u001b[0m \u001b[0;34m=\u001b[0m \u001b[0;34m(\u001b[0m\u001b[0mnp\u001b[0m\u001b[0;34m.\u001b[0m\u001b[0mabs\u001b[0m\u001b[0;34m(\u001b[0m\u001b[0mnp\u001b[0m\u001b[0;34m.\u001b[0m\u001b[0mabs\u001b[0m\u001b[0;34m(\u001b[0m\u001b[0;34m(\u001b[0m\u001b[0mpk0\u001b[0m\u001b[0;34m-\u001b[0m\u001b[0mpk\u001b[0m\u001b[0;34m)\u001b[0m\u001b[0;34m/\u001b[0m\u001b[0mpk0\u001b[0m\u001b[0;34m)\u001b[0m \u001b[0;34m-\u001b[0m \u001b[0mreduction_factor\u001b[0m\u001b[0;34m)\u001b[0m\u001b[0;34m)\u001b[0m\u001b[0;34m.\u001b[0m\u001b[0margmin\u001b[0m\u001b[0;34m(\u001b[0m\u001b[0;34m)\u001b[0m\u001b[0;34m\u001b[0m\u001b[0;34m\u001b[0m\u001b[0m\n\u001b[0m\u001b[1;32m     24\u001b[0m         \u001b[0;32mif\u001b[0m \u001b[0mks\u001b[0m\u001b[0;34m[\u001b[0m\u001b[0mind\u001b[0m\u001b[0;34m]\u001b[0m\u001b[0;34m>\u001b[0m\u001b[0mupper_cut\u001b[0m \u001b[0;32mor\u001b[0m \u001b[0mks\u001b[0m\u001b[0;34m[\u001b[0m\u001b[0mind\u001b[0m\u001b[0;34m]\u001b[0m\u001b[0;34m<\u001b[0m\u001b[0mlower_cut\u001b[0m\u001b[0;34m:\u001b[0m\u001b[0;34m\u001b[0m\u001b[0;34m\u001b[0m\u001b[0m\n\u001b[1;32m     25\u001b[0m             \u001b[0;32mcontinue\u001b[0m\u001b[0;34m\u001b[0m\u001b[0;34m\u001b[0m\u001b[0m\n",
      "\u001b[0;31mValueError\u001b[0m: operands could not be broadcast together with shapes (246,) (130,) "
     ]
    }
   ],
   "source": "for m in masses_test:\n    if calculate_kcuts(npow=npow_, m=m, z='z1') == -1:\n        continue\n    sigmas, kcuts, p = calculate_kcuts(npow=npow_, m=m, z='z1')"
  },
  {
   "cell_type": "code",
   "execution_count": null,
   "metadata": {},
   "outputs": [],
   "source": "sigmas_ref = np.logspace(-10,-30,1000)\nfor m in masses_test:\n    ks_filename = 'data/ks_0.25_z0_n{}_m{}.txt'.format(npow_,m)\n    if calculate_kcuts(npow=npow_, m=m, z='z1') == -1:\n        continue\n    sigmas, kcuts, p = calculate_kcuts(npow=npow_, m=m, z='z1')\n    ks = fit_fun(sigmas_ref,p)\n    np.savetxt(ks_filename, np.vstack((sigmas_ref, ks)).T)"
  },
  {
   "cell_type": "code",
   "execution_count": null,
   "metadata": {},
   "outputs": [],
   "source": "masses0,sigmas0=sigma0_limit(kcut=36,npow=0)\nmasses2,sigmas2=sigma0_limit(kcut=36,npow=2)\nmasses4,sigmas4=sigma0_limit(kcut=36,npow=4)\nmasses6,sigmas6=sigma0_limit(kcut=36,npow=6)"
  },
  {
   "cell_type": "code",
   "execution_count": null,
   "metadata": {},
   "outputs": [],
   "source": "# masses6 = [masses6[0],masses6[1]]\n# sigmas6 = [sigmas6[0],sigmas6[1]]\n\n# masses4 = [masses4[0],masses4[1],masses4[2],masses4[3],masses4[2],masses4[1]]\n# sigmas4 = [sigmas4[0],sigmas4[1],sigmas4[2],sigmas4[3],sigmas4[2],sigmas4[1]]"
  },
  {
   "cell_type": "code",
   "execution_count": null,
   "metadata": {},
   "outputs": [],
   "source": "plt.figure(figsize=(15,10))\n\nplt.loglog(masses6,sigmas6, label=\"n=6\",linewidth=5,linestyle=':')\nplt.loglog(masses4,sigmas4, label=\"n=4\",linewidth=5,linestyle='-.')\nplt.loglog(masses2,sigmas2, label=\"n=2\",linewidth=5,linestyle='--')\nplt.loglog(masses0,sigmas0, label=\"n=0\",linewidth=5)\n\nplt.ylabel(r\"Cross section $\\sigma_0$ [$cm^2$]\", fontsize=30)\nplt.xlabel(r\"Dark matter mass $m_x$ [GeV]\", fontsize=30)\nplt.legend(fontsize=25)\nplt.tick_params(labelsize=15)\nplt.ylim(1e-30,1e-11)\n\nplt.savefig(\"numerical.png\")"
  },
  {
   "cell_type": "code",
   "execution_count": null,
   "metadata": {},
   "outputs": [],
   "source": "show_pk(npow=6,masses=masses_test)"
  },
  {
   "cell_type": "code",
   "execution_count": null,
   "metadata": {},
   "outputs": [],
   "source": ""
  },
  {
   "cell_type": "code",
   "execution_count": null,
   "metadata": {},
   "outputs": [],
   "source": ""
  },
  {
   "cell_type": "code",
   "execution_count": null,
   "metadata": {},
   "outputs": [],
   "source": ""
  }
 ],
 "metadata": {
  "anaconda-cloud": {},
  "kernelspec": {
   "display_name": "Python 2",
   "language": "python",
   "name": "python2"
  },
  "language_info": {
   "codemirror_mode": {
    "name": "ipython",
    "version": 2
   },
   "file_extension": ".py",
   "mimetype": "text/x-python",
   "name": "python",
   "nbconvert_exporter": "python",
   "pygments_lexer": "ipython2",
   "version": "2.7.15+"
  }
 },
 "nbformat": 4,
 "nbformat_minor": 1
}
